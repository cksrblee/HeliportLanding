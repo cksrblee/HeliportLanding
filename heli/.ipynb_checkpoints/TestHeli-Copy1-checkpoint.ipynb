{
 "cells": [
  {
   "cell_type": "code",
   "execution_count": 1,
   "id": "d0d60c63",
   "metadata": {},
   "outputs": [
    {
     "name": "stderr",
     "output_type": "stream",
     "text": [
      "C:\\Users\\cheon\\anaconda3\\envs\\heliport\\lib\\site-packages\\tensorflow\\python\\framework\\dtypes.py:526: FutureWarning: Passing (type, 1) or '1type' as a synonym of type is deprecated; in a future version of numpy, it will be understood as (type, (1,)) / '(1,)type'.\n",
      "  _np_qint8 = np.dtype([(\"qint8\", np.int8, 1)])\n",
      "C:\\Users\\cheon\\anaconda3\\envs\\heliport\\lib\\site-packages\\tensorflow\\python\\framework\\dtypes.py:527: FutureWarning: Passing (type, 1) or '1type' as a synonym of type is deprecated; in a future version of numpy, it will be understood as (type, (1,)) / '(1,)type'.\n",
      "  _np_quint8 = np.dtype([(\"quint8\", np.uint8, 1)])\n",
      "C:\\Users\\cheon\\anaconda3\\envs\\heliport\\lib\\site-packages\\tensorflow\\python\\framework\\dtypes.py:528: FutureWarning: Passing (type, 1) or '1type' as a synonym of type is deprecated; in a future version of numpy, it will be understood as (type, (1,)) / '(1,)type'.\n",
      "  _np_qint16 = np.dtype([(\"qint16\", np.int16, 1)])\n",
      "C:\\Users\\cheon\\anaconda3\\envs\\heliport\\lib\\site-packages\\tensorflow\\python\\framework\\dtypes.py:529: FutureWarning: Passing (type, 1) or '1type' as a synonym of type is deprecated; in a future version of numpy, it will be understood as (type, (1,)) / '(1,)type'.\n",
      "  _np_quint16 = np.dtype([(\"quint16\", np.uint16, 1)])\n",
      "C:\\Users\\cheon\\anaconda3\\envs\\heliport\\lib\\site-packages\\tensorflow\\python\\framework\\dtypes.py:530: FutureWarning: Passing (type, 1) or '1type' as a synonym of type is deprecated; in a future version of numpy, it will be understood as (type, (1,)) / '(1,)type'.\n",
      "  _np_qint32 = np.dtype([(\"qint32\", np.int32, 1)])\n",
      "C:\\Users\\cheon\\anaconda3\\envs\\heliport\\lib\\site-packages\\tensorflow\\python\\framework\\dtypes.py:535: FutureWarning: Passing (type, 1) or '1type' as a synonym of type is deprecated; in a future version of numpy, it will be understood as (type, (1,)) / '(1,)type'.\n",
      "  np_resource = np.dtype([(\"resource\", np.ubyte, 1)])\n"
     ]
    },
    {
     "name": "stdout",
     "output_type": "stream",
     "text": [
      "Parsing ./cfg/tiny-yolo-voc.cfg\n",
      "Parsing cfg/tiny-yolo-voc-3c.cfg\n",
      "Loading bin/tiny-yolo-voc.weights ...\n",
      "Successfully identified 63471556 bytes\n",
      "Finished in 0.013024330139160156s\n",
      "\n",
      "Building net ...\n",
      "Source | Train? | Layer description                | Output size\n",
      "-------+--------+----------------------------------+---------------\n",
      "WARNING:tensorflow:From C:\\Users\\cheon\\anaconda3\\envs\\heliport\\lib\\site-packages\\tensorflow\\python\\framework\\op_def_library.py:263: colocate_with (from tensorflow.python.framework.ops) is deprecated and will be removed in a future version.\n",
      "Instructions for updating:\n",
      "Colocations handled automatically by placer.\n",
      "       |        | input                            | (?, 416, 416, 3)\n",
      " Load  |  Yep!  | conv 3x3p1_1  +bnorm  leaky      | (?, 416, 416, 16)\n",
      " Load  |  Yep!  | maxp 2x2p0_2                     | (?, 208, 208, 16)\n",
      " Load  |  Yep!  | conv 3x3p1_1  +bnorm  leaky      | (?, 208, 208, 32)\n",
      " Load  |  Yep!  | maxp 2x2p0_2                     | (?, 104, 104, 32)\n",
      " Load  |  Yep!  | conv 3x3p1_1  +bnorm  leaky      | (?, 104, 104, 64)\n",
      " Load  |  Yep!  | maxp 2x2p0_2                     | (?, 52, 52, 64)\n",
      " Load  |  Yep!  | conv 3x3p1_1  +bnorm  leaky      | (?, 52, 52, 128)\n",
      " Load  |  Yep!  | maxp 2x2p0_2                     | (?, 26, 26, 128)\n",
      " Load  |  Yep!  | conv 3x3p1_1  +bnorm  leaky      | (?, 26, 26, 256)\n",
      " Load  |  Yep!  | maxp 2x2p0_2                     | (?, 13, 13, 256)\n",
      " Load  |  Yep!  | conv 3x3p1_1  +bnorm  leaky      | (?, 13, 13, 512)\n",
      " Load  |  Yep!  | maxp 2x2p0_1                     | (?, 13, 13, 512)\n",
      " Load  |  Yep!  | conv 3x3p1_1  +bnorm  leaky      | (?, 13, 13, 1024)\n",
      " Load  |  Yep!  | conv 3x3p1_1  +bnorm  leaky      | (?, 13, 13, 1024)\n",
      " Init  |  Yep!  | conv 1x1p0_1    linear           | (?, 13, 13, 30)\n",
      "-------+--------+----------------------------------+---------------\n",
      "Running entirely on CPU\n",
      "Finished in 2.432974338531494s\n",
      "\n"
     ]
    }
   ],
   "source": [
    "from darkflow.net.build import TFNet\n",
    "import cv2\n",
    "\n",
    "options = {\"model\": \"cfg/tiny-yolo-voc-3c.cfg\", \"load\": \"bin/tiny-yolo-voc.weights\", \"threshold\": 0.5}\n",
    "\n",
    "tfnet = TFNet(options)\n"
   ]
  },
  {
   "cell_type": "code",
   "execution_count": 2,
   "id": "0e0d1d3e",
   "metadata": {},
   "outputs": [
    {
     "name": "stdout",
     "output_type": "stream",
     "text": [
      "[[[23 22 24]\n",
      "  [23 22 24]\n",
      "  [23 22 24]\n",
      "  ...\n",
      "  [23 22 24]\n",
      "  [23 22 24]\n",
      "  [23 22 24]]\n",
      "\n",
      " [[23 22 24]\n",
      "  [23 22 24]\n",
      "  [23 22 24]\n",
      "  ...\n",
      "  [23 22 24]\n",
      "  [23 22 24]\n",
      "  [23 22 24]]\n",
      "\n",
      " [[23 22 24]\n",
      "  [23 22 24]\n",
      "  [23 22 24]\n",
      "  ...\n",
      "  [23 22 24]\n",
      "  [23 22 24]\n",
      "  [23 22 24]]\n",
      "\n",
      " ...\n",
      "\n",
      " [[23 22 24]\n",
      "  [23 22 24]\n",
      "  [23 22 24]\n",
      "  ...\n",
      "  [23 22 24]\n",
      "  [23 22 24]\n",
      "  [23 22 24]]\n",
      "\n",
      " [[23 22 24]\n",
      "  [23 22 24]\n",
      "  [23 22 24]\n",
      "  ...\n",
      "  [23 22 24]\n",
      "  [23 22 24]\n",
      "  [23 22 24]]\n",
      "\n",
      " [[23 22 24]\n",
      "  [23 22 24]\n",
      "  [23 22 24]\n",
      "  ...\n",
      "  [23 22 24]\n",
      "  [23 22 24]\n",
      "  [23 22 24]]]\n"
     ]
    }
   ],
   "source": [
    "imgcv = cv2.imread(\"./data/heliport/s2.jpg\")\n",
    "print(imgcv)"
   ]
  },
  {
   "cell_type": "code",
   "execution_count": 3,
   "id": "ccdb37fa",
   "metadata": {},
   "outputs": [
    {
     "name": "stdout",
     "output_type": "stream",
     "text": [
      "[{'label': 'heliport', 'confidence': 0.5137079, 'topleft': {'x': 375, 'y': 8}, 'bottomright': {'x': 506, 'y': 48}}, {'label': 'heliport', 'confidence': 0.61962545, 'topleft': {'x': 153, 'y': 0}, 'bottomright': {'x': 741, 'y': 461}}, {'label': 'heliport', 'confidence': 0.55419636, 'topleft': {'x': 466, 'y': 10}, 'bottomright': {'x': 605, 'y': 49}}, {'label': 'heliport', 'confidence': 0.59187305, 'topleft': {'x': 572, 'y': 10}, 'bottomright': {'x': 699, 'y': 50}}, {'label': 'heliport', 'confidence': 0.53519964, 'topleft': {'x': 675, 'y': 10}, 'bottomright': {'x': 793, 'y': 52}}, {'label': 'heliport', 'confidence': 0.6291478, 'topleft': {'x': 484, 'y': 0}, 'bottomright': {'x': 1020, 'y': 362}}, {'label': 'heliport', 'confidence': 0.5698933, 'topleft': {'x': 763, 'y': 0}, 'bottomright': {'x': 1279, 'y': 400}}, {'label': 'heliport', 'confidence': 0.5044782, 'topleft': {'x': 1055, 'y': 0}, 'bottomright': {'x': 1204, 'y': 59}}, {'label': 'heliport', 'confidence': 0.5433509, 'topleft': {'x': 458, 'y': 68}, 'bottomright': {'x': 611, 'y': 100}}, {'label': 'heliport', 'confidence': 0.531535, 'topleft': {'x': 555, 'y': 66}, 'bottomright': {'x': 714, 'y': 101}}, {'label': 'heliport', 'confidence': 0.5926586, 'topleft': {'x': 626, 'y': 0}, 'bottomright': {'x': 1036, 'y': 174}}, {'label': 'heliport', 'confidence': 0.55283463, 'topleft': {'x': 815, 'y': 0}, 'bottomright': {'x': 1256, 'y': 201}}, {'label': 'heliport', 'confidence': 0.5121604, 'topleft': {'x': 1025, 'y': 0}, 'bottomright': {'x': 1279, 'y': 229}}, {'label': 'heliport', 'confidence': 0.5487247, 'topleft': {'x': 378, 'y': 123}, 'bottomright': {'x': 509, 'y': 163}}, {'label': 'heliport', 'confidence': 0.54881614, 'topleft': {'x': 462, 'y': 124}, 'bottomright': {'x': 621, 'y': 161}}, {'label': 'heliport', 'confidence': 0.63776255, 'topleft': {'x': 444, 'y': 63}, 'bottomright': {'x': 822, 'y': 223}}, {'label': 'heliport', 'confidence': 0.5484485, 'topleft': {'x': 702, 'y': 55}, 'bottomright': {'x': 1167, 'y': 228}}, {'label': 'heliport', 'confidence': 0.54177505, 'topleft': {'x': 942, 'y': 0}, 'bottomright': {'x': 1279, 'y': 450}}, {'label': 'heliport', 'confidence': 0.51911896, 'topleft': {'x': 0, 'y': 154}, 'bottomright': {'x': 107, 'y': 228}}, {'label': 'heliport', 'confidence': 0.5176214, 'topleft': {'x': 87, 'y': 165}, 'bottomright': {'x': 226, 'y': 221}}, {'label': 'heliport', 'confidence': 0.52057785, 'topleft': {'x': 182, 'y': 162}, 'bottomright': {'x': 326, 'y': 228}}, {'label': 'heliport', 'confidence': 0.50208944, 'topleft': {'x': 39, 'y': 115}, 'bottomright': {'x': 469, 'y': 283}}, {'label': 'heliport', 'confidence': 0.5476383, 'topleft': {'x': 281, 'y': 170}, 'bottomright': {'x': 419, 'y': 228}}, {'label': 'heliport', 'confidence': 0.59040946, 'topleft': {'x': 391, 'y': 176}, 'bottomright': {'x': 504, 'y': 223}}, {'label': 'heliport', 'confidence': 0.5968215, 'topleft': {'x': 489, 'y': 172}, 'bottomright': {'x': 608, 'y': 226}}, {'label': 'heliport', 'confidence': 0.5685124, 'topleft': {'x': 333, 'y': 132}, 'bottomright': {'x': 758, 'y': 269}}, {'label': 'heliport', 'confidence': 0.5401051, 'topleft': {'x': 574, 'y': 174}, 'bottomright': {'x': 718, 'y': 223}}, {'label': 'heliport', 'confidence': 0.50946707, 'topleft': {'x': 750, 'y': 163}, 'bottomright': {'x': 918, 'y': 235}}, {'label': 'heliport', 'confidence': 0.5697592, 'topleft': {'x': 640, 'y': 138}, 'bottomright': {'x': 1016, 'y': 262}}, {'label': 'heliport', 'confidence': 0.50568014, 'topleft': {'x': 852, 'y': 162}, 'bottomright': {'x': 1021, 'y': 240}}, {'label': 'heliport', 'confidence': 0.52434283, 'topleft': {'x': 966, 'y': 168}, 'bottomright': {'x': 1116, 'y': 233}}, {'label': 'heliport', 'confidence': 0.5384275, 'topleft': {'x': 932, 'y': 46}, 'bottomright': {'x': 1279, 'y': 348}}, {'label': 'heliport', 'confidence': 0.5289774, 'topleft': {'x': 0, 'y': 211}, 'bottomright': {'x': 106, 'y': 282}}, {'label': 'heliport', 'confidence': 0.5179548, 'topleft': {'x': 99, 'y': 218}, 'bottomright': {'x': 218, 'y': 278}}, {'label': 'heliport', 'confidence': 0.54817927, 'topleft': {'x': 192, 'y': 217}, 'bottomright': {'x': 318, 'y': 284}}, {'label': 'heliport', 'confidence': 0.57807815, 'topleft': {'x': 298, 'y': 226}, 'bottomright': {'x': 405, 'y': 286}}, {'label': 'heliport', 'confidence': 0.63356495, 'topleft': {'x': 406, 'y': 229}, 'bottomright': {'x': 501, 'y': 280}}, {'label': 'heliport', 'confidence': 0.5323686, 'topleft': {'x': 236, 'y': 186}, 'bottomright': {'x': 657, 'y': 317}}, {'label': 'heliport', 'confidence': 0.6044569, 'topleft': {'x': 508, 'y': 223}, 'bottomright': {'x': 598, 'y': 278}}, {'label': 'heliport', 'confidence': 0.5418922, 'topleft': {'x': 597, 'y': 222}, 'bottomright': {'x': 704, 'y': 277}}, {'label': 'heliport', 'confidence': 0.5321503, 'topleft': {'x': 769, 'y': 218}, 'bottomright': {'x': 905, 'y': 291}}, {'label': 'heliport', 'confidence': 0.5529788, 'topleft': {'x': 648, 'y': 193}, 'bottomright': {'x': 1012, 'y': 312}}, {'label': 'heliport', 'confidence': 0.6474254, 'topleft': {'x': 161, 'y': 55}, 'bottomright': {'x': 1279, 'y': 445}}, {'label': 'heliport', 'confidence': 0.5442368, 'topleft': {'x': 867, 'y': 216}, 'bottomright': {'x': 1009, 'y': 296}}, {'label': 'heliport', 'confidence': 0.5461218, 'topleft': {'x': 972, 'y': 221}, 'bottomright': {'x': 1109, 'y': 287}}, {'label': 'heliport', 'confidence': 0.52504086, 'topleft': {'x': 1074, 'y': 214}, 'bottomright': {'x': 1207, 'y': 287}}, {'label': 'heliport', 'confidence': 0.5084595, 'topleft': {'x': 1178, 'y': 218}, 'bottomright': {'x': 1279, 'y': 283}}, {'label': 'heliport', 'confidence': 0.5275412, 'topleft': {'x': 0, 'y': 268}, 'bottomright': {'x': 103, 'y': 336}}, {'label': 'heliport', 'confidence': 0.5399552, 'topleft': {'x': 103, 'y': 271}, 'bottomright': {'x': 214, 'y': 335}}, {'label': 'heliport', 'confidence': 0.58356327, 'topleft': {'x': 202, 'y': 270}, 'bottomright': {'x': 305, 'y': 342}}, {'label': 'heliport', 'confidence': 0.61077774, 'topleft': {'x': 305, 'y': 281}, 'bottomright': {'x': 402, 'y': 340}}, {'label': 'heliport', 'confidence': 0.6461125, 'topleft': {'x': 408, 'y': 285}, 'bottomright': {'x': 505, 'y': 335}}, {'label': 'heliport', 'confidence': 0.53632843, 'topleft': {'x': 257, 'y': 244}, 'bottomright': {'x': 628, 'y': 366}}, {'label': 'heliport', 'confidence': 0.5986708, 'topleft': {'x': 514, 'y': 278}, 'bottomright': {'x': 602, 'y': 331}}, {'label': 'heliport', 'confidence': 0.5059125, 'topleft': {'x': 612, 'y': 273}, 'bottomright': {'x': 703, 'y': 331}}, {'label': 'heliport', 'confidence': 0.54272985, 'topleft': {'x': 795, 'y': 270}, 'bottomright': {'x': 887, 'y': 348}}, {'label': 'heliport', 'confidence': 0.51910686, 'topleft': {'x': 604, 'y': 236}, 'bottomright': {'x': 1065, 'y': 378}}, {'label': 'heliport', 'confidence': 0.5326933, 'topleft': {'x': 886, 'y': 269}, 'bottomright': {'x': 992, 'y': 352}}, {'label': 'heliport', 'confidence': 0.54134595, 'topleft': {'x': 983, 'y': 272}, 'bottomright': {'x': 1095, 'y': 346}}, {'label': 'heliport', 'confidence': 0.5218885, 'topleft': {'x': 1075, 'y': 270}, 'bottomright': {'x': 1202, 'y': 344}}, {'label': 'heliport', 'confidence': 0.50905067, 'topleft': {'x': 1174, 'y': 274}, 'bottomright': {'x': 1279, 'y': 337}}, {'label': 'heliport', 'confidence': 0.52146125, 'topleft': {'x': 0, 'y': 324}, 'bottomright': {'x': 106, 'y': 390}}, {'label': 'heliport', 'confidence': 0.5353257, 'topleft': {'x': 103, 'y': 328}, 'bottomright': {'x': 213, 'y': 389}}, {'label': 'heliport', 'confidence': 0.5514005, 'topleft': {'x': 203, 'y': 324}, 'bottomright': {'x': 301, 'y': 398}}, {'label': 'heliport', 'confidence': 0.6094215, 'topleft': {'x': 304, 'y': 328}, 'bottomright': {'x': 405, 'y': 400}}, {'label': 'heliport', 'confidence': 0.6255784, 'topleft': {'x': 396, 'y': 336}, 'bottomright': {'x': 508, 'y': 396}}, {'label': 'heliport', 'confidence': 0.5050284, 'topleft': {'x': 254, 'y': 292}, 'bottomright': {'x': 636, 'y': 428}}, {'label': 'heliport', 'confidence': 0.573575, 'topleft': {'x': 510, 'y': 327}, 'bottomright': {'x': 605, 'y': 395}}, {'label': 'heliport', 'confidence': 0.62680346, 'topleft': {'x': 243, 'y': 0}, 'bottomright': {'x': 863, 'y': 719}}, {'label': 'heliport', 'confidence': 0.5064803, 'topleft': {'x': 611, 'y': 317}, 'bottomright': {'x': 702, 'y': 401}}, {'label': 'heliport', 'confidence': 0.50595164, 'topleft': {'x': 705, 'y': 315}, 'bottomright': {'x': 795, 'y': 405}}, {'label': 'heliport', 'confidence': 0.5199445, 'topleft': {'x': 798, 'y': 312}, 'bottomright': {'x': 886, 'y': 412}}, {'label': 'heliport', 'confidence': 0.51893085, 'topleft': {'x': 895, 'y': 322}, 'bottomright': {'x': 986, 'y': 408}}, {'label': 'heliport', 'confidence': 0.53439677, 'topleft': {'x': 989, 'y': 327}, 'bottomright': {'x': 1086, 'y': 402}}, {'label': 'heliport', 'confidence': 0.5106005, 'topleft': {'x': 1078, 'y': 326}, 'bottomright': {'x': 1197, 'y': 400}}, {'label': 'heliport', 'confidence': 0.5028648, 'topleft': {'x': 1170, 'y': 329}, 'bottomright': {'x': 1279, 'y': 392}}, {'label': 'heliport', 'confidence': 0.5015829, 'topleft': {'x': 0, 'y': 383}, 'bottomright': {'x': 104, 'y': 442}}, {'label': 'heliport', 'confidence': 0.50989926, 'topleft': {'x': 99, 'y': 386}, 'bottomright': {'x': 217, 'y': 445}}, {'label': 'heliport', 'confidence': 0.520758, 'topleft': {'x': 201, 'y': 379}, 'bottomright': {'x': 308, 'y': 457}}, {'label': 'heliport', 'confidence': 0.5820576, 'topleft': {'x': 298, 'y': 379}, 'bottomright': {'x': 407, 'y': 459}}, {'label': 'heliport', 'confidence': 0.5910463, 'topleft': {'x': 391, 'y': 381}, 'bottomright': {'x': 503, 'y': 463}}, {'label': 'heliport', 'confidence': 0.58241415, 'topleft': {'x': 503, 'y': 379}, 'bottomright': {'x': 592, 'y': 460}}, {'label': 'heliport', 'confidence': 0.5403238, 'topleft': {'x': 601, 'y': 377}, 'bottomright': {'x': 696, 'y': 456}}, {'label': 'heliport', 'confidence': 0.50652426, 'topleft': {'x': 456, 'y': 304}, 'bottomright': {'x': 834, 'y': 524}}, {'label': 'heliport', 'confidence': 0.5210106, 'topleft': {'x': 696, 'y': 371}, 'bottomright': {'x': 800, 'y': 459}}, {'label': 'heliport', 'confidence': 0.5019672, 'topleft': {'x': 795, 'y': 365}, 'bottomright': {'x': 894, 'y': 468}}, {'label': 'heliport', 'confidence': 0.50667757, 'topleft': {'x': 899, 'y': 380}, 'bottomright': {'x': 987, 'y': 462}}, {'label': 'heliport', 'confidence': 0.5124509, 'topleft': {'x': 990, 'y': 386}, 'bottomright': {'x': 1087, 'y': 457}}, {'label': 'heliport', 'confidence': 0.50853586, 'topleft': {'x': 920, 'y': 292}, 'bottomright': {'x': 1279, 'y': 542}}, {'label': 'heliport', 'confidence': 0.5565436, 'topleft': {'x': 280, 'y': 436}, 'bottomright': {'x': 425, 'y': 514}}, {'label': 'heliport', 'confidence': 0.56784433, 'topleft': {'x': 387, 'y': 434}, 'bottomright': {'x': 508, 'y': 517}}, {'label': 'heliport', 'confidence': 0.57780993, 'topleft': {'x': 485, 'y': 436}, 'bottomright': {'x': 600, 'y': 513}}, {'label': 'heliport', 'confidence': 0.57076204, 'topleft': {'x': 573, 'y': 433}, 'bottomright': {'x': 710, 'y': 511}}, {'label': 'heliport', 'confidence': 0.5368204, 'topleft': {'x': 675, 'y': 429}, 'bottomright': {'x': 815, 'y': 511}}, {'label': 'heliport', 'confidence': 0.52205867, 'topleft': {'x': 269, 'y': 491}, 'bottomright': {'x': 439, 'y': 566}}, {'label': 'heliport', 'confidence': 0.5648077, 'topleft': {'x': 369, 'y': 488}, 'bottomright': {'x': 538, 'y': 570}}, {'label': 'heliport', 'confidence': 0.58015317, 'topleft': {'x': 460, 'y': 486}, 'bottomright': {'x': 633, 'y': 573}}, {'label': 'heliport', 'confidence': 0.66579866, 'topleft': {'x': 0, 'y': 207}, 'bottomright': {'x': 1225, 'y': 719}}, {'label': 'heliport', 'confidence': 0.5967555, 'topleft': {'x': 531, 'y': 485}, 'bottomright': {'x': 753, 'y': 572}}, {'label': 'heliport', 'confidence': 0.5804561, 'topleft': {'x': 650, 'y': 482}, 'bottomright': {'x': 840, 'y': 572}}, {'label': 'heliport', 'confidence': 0.50824714, 'topleft': {'x': 783, 'y': 490}, 'bottomright': {'x': 920, 'y': 567}}, {'label': 'heliport', 'confidence': 0.5599647, 'topleft': {'x': 697, 'y': 263}, 'bottomright': {'x': 1177, 'y': 719}}, {'label': 'heliport', 'confidence': 0.50543225, 'topleft': {'x': 966, 'y': 393}, 'bottomright': {'x': 1279, 'y': 663}}, {'label': 'heliport', 'confidence': 0.5488374, 'topleft': {'x': 956, 'y': 229}, 'bottomright': {'x': 1279, 'y': 719}}, {'label': 'heliport', 'confidence': 0.51276076, 'topleft': {'x': 181, 'y': 548}, 'bottomright': {'x': 334, 'y': 624}}, {'label': 'heliport', 'confidence': 0.5263061, 'topleft': {'x': 268, 'y': 548}, 'bottomright': {'x': 448, 'y': 618}}, {'label': 'heliport', 'confidence': 0.55520517, 'topleft': {'x': 355, 'y': 550}, 'bottomright': {'x': 553, 'y': 615}}, {'label': 'heliport', 'confidence': 0.67722434, 'topleft': {'x': 137, 'y': 486}, 'bottomright': {'x': 744, 'y': 689}}, {'label': 'heliport', 'confidence': 0.58225995, 'topleft': {'x': 445, 'y': 542}, 'bottomright': {'x': 657, 'y': 623}}, {'label': 'heliport', 'confidence': 0.6008825, 'topleft': {'x': 536, 'y': 547}, 'bottomright': {'x': 765, 'y': 621}}, {'label': 'heliport', 'confidence': 0.59355664, 'topleft': {'x': 649, 'y': 550}, 'bottomright': {'x': 850, 'y': 617}}, {'label': 'heliport', 'confidence': 0.52318186, 'topleft': {'x': 775, 'y': 549}, 'bottomright': {'x': 924, 'y': 614}}, {'label': 'heliport', 'confidence': 0.56950325, 'topleft': {'x': 482, 'y': 285}, 'bottomright': {'x': 1279, 'y': 719}}, {'label': 'heliport', 'confidence': 0.5179449, 'topleft': {'x': 0, 'y': 600}, 'bottomright': {'x': 105, 'y': 672}}, {'label': 'heliport', 'confidence': 0.5278656, 'topleft': {'x': 88, 'y': 606}, 'bottomright': {'x': 215, 'y': 668}}, {'label': 'heliport', 'confidence': 0.5705694, 'topleft': {'x': 188, 'y': 606}, 'bottomright': {'x': 326, 'y': 672}}, {'label': 'heliport', 'confidence': 0.5179886, 'topleft': {'x': 83, 'y': 524}, 'bottomright': {'x': 433, 'y': 719}}, {'label': 'heliport', 'confidence': 0.57694364, 'topleft': {'x': 276, 'y': 608}, 'bottomright': {'x': 439, 'y': 664}}, {'label': 'heliport', 'confidence': 0.5802193, 'topleft': {'x': 367, 'y': 611}, 'bottomright': {'x': 540, 'y': 659}}, {'label': 'heliport', 'confidence': 0.5830337, 'topleft': {'x': 460, 'y': 608}, 'bottomright': {'x': 642, 'y': 662}}, {'label': 'heliport', 'confidence': 0.59657305, 'topleft': {'x': 563, 'y': 610}, 'bottomright': {'x': 740, 'y': 665}}, {'label': 'heliport', 'confidence': 0.66208225, 'topleft': {'x': 148, 'y': 477}, 'bottomright': {'x': 1134, 'y': 719}}, {'label': 'heliport', 'confidence': 0.5717182, 'topleft': {'x': 666, 'y': 608}, 'bottomright': {'x': 830, 'y': 665}}, {'label': 'heliport', 'confidence': 0.540617, 'topleft': {'x': 774, 'y': 602}, 'bottomright': {'x': 919, 'y': 669}}, {'label': 'heliport', 'confidence': 0.5032475, 'topleft': {'x': 969, 'y': 600}, 'bottomright': {'x': 1108, 'y': 676}}, {'label': 'heliport', 'confidence': 0.50920296, 'topleft': {'x': 540, 'y': 514}, 'bottomright': {'x': 1279, 'y': 719}}, {'label': 'heliport', 'confidence': 0.51507455, 'topleft': {'x': 1069, 'y': 605}, 'bottomright': {'x': 1201, 'y': 672}}, {'label': 'heliport', 'confidence': 0.50449663, 'topleft': {'x': 1172, 'y': 607}, 'bottomright': {'x': 1279, 'y': 668}}, {'label': 'heliport', 'confidence': 0.50497353, 'topleft': {'x': 0, 'y': 659}, 'bottomright': {'x': 105, 'y': 719}}, {'label': 'heliport', 'confidence': 0.55500305, 'topleft': {'x': 80, 'y': 661}, 'bottomright': {'x': 214, 'y': 719}}, {'label': 'heliport', 'confidence': 0.59766626, 'topleft': {'x': 178, 'y': 662}, 'bottomright': {'x': 320, 'y': 719}}, {'label': 'heliport', 'confidence': 0.5265025, 'topleft': {'x': 0, 'y': 445}, 'bottomright': {'x': 930, 'y': 719}}, {'label': 'heliport', 'confidence': 0.58975005, 'topleft': {'x': 272, 'y': 666}, 'bottomright': {'x': 428, 'y': 714}}, {'label': 'heliport', 'confidence': 0.51182026, 'topleft': {'x': 34, 'y': 558}, 'bottomright': {'x': 656, 'y': 719}}, {'label': 'heliport', 'confidence': 0.5603967, 'topleft': {'x': 372, 'y': 669}, 'bottomright': {'x': 521, 'y': 709}}, {'label': 'heliport', 'confidence': 0.55088174, 'topleft': {'x': 477, 'y': 669}, 'bottomright': {'x': 608, 'y': 710}}, {'label': 'heliport', 'confidence': 0.55170864, 'topleft': {'x': 571, 'y': 666}, 'bottomright': {'x': 708, 'y': 712}}, {'label': 'heliport', 'confidence': 0.5348384, 'topleft': {'x': 668, 'y': 662}, 'bottomright': {'x': 814, 'y': 715}}, {'label': 'heliport', 'confidence': 0.5689128, 'topleft': {'x': 772, 'y': 659}, 'bottomright': {'x': 905, 'y': 719}}, {'label': 'heliport', 'confidence': 0.5563308, 'topleft': {'x': 616, 'y': 576}, 'bottomright': {'x': 1073, 'y': 719}}, {'label': 'heliport', 'confidence': 0.5517704, 'topleft': {'x': 869, 'y': 658}, 'bottomright': {'x': 1007, 'y': 719}}, {'label': 'heliport', 'confidence': 0.55268955, 'topleft': {'x': 965, 'y': 659}, 'bottomright': {'x': 1104, 'y': 719}}, {'label': 'heliport', 'confidence': 0.53170955, 'topleft': {'x': 1061, 'y': 662}, 'bottomright': {'x': 1201, 'y': 719}}, {'label': 'heliport', 'confidence': 0.5184663, 'topleft': {'x': 1165, 'y': 661}, 'bottomright': {'x': 1279, 'y': 719}}]\n"
     ]
    }
   ],
   "source": [
    "result = tfnet.return_predict(imgcv)\n",
    "print(result)"
   ]
  },
  {
   "cell_type": "code",
   "execution_count": 3,
   "id": "96c160a8",
   "metadata": {},
   "outputs": [
    {
     "name": "stdout",
     "output_type": "stream",
     "text": [
      "Parsing ./cfg/tiny-yolo-voc.cfg\n",
      "Parsing cfg/tiny-yolo-voc-3c.cfg\n",
      "Loading bin/tiny-yolo-voc.weights ...\n",
      "Successfully identified 63471556 bytes\n",
      "Finished in 0.01700115203857422s\n",
      "\n",
      "Building net ...\n",
      "Source | Train? | Layer description                | Output size\n",
      "-------+--------+----------------------------------+---------------\n",
      "       |        | input                            | (?, 416, 416, 3)\n",
      " Load  |  Yep!  | conv 3x3p1_1  +bnorm  leaky      | (?, 416, 416, 16)\n",
      " Load  |  Yep!  | maxp 2x2p0_2                     | (?, 208, 208, 16)\n",
      " Load  |  Yep!  | conv 3x3p1_1  +bnorm  leaky      | (?, 208, 208, 32)\n",
      " Load  |  Yep!  | maxp 2x2p0_2                     | (?, 104, 104, 32)\n",
      " Load  |  Yep!  | conv 3x3p1_1  +bnorm  leaky      | (?, 104, 104, 64)\n",
      " Load  |  Yep!  | maxp 2x2p0_2                     | (?, 52, 52, 64)\n",
      " Load  |  Yep!  | conv 3x3p1_1  +bnorm  leaky      | (?, 52, 52, 128)\n",
      " Load  |  Yep!  | maxp 2x2p0_2                     | (?, 26, 26, 128)\n",
      " Load  |  Yep!  | conv 3x3p1_1  +bnorm  leaky      | (?, 26, 26, 256)\n",
      " Load  |  Yep!  | maxp 2x2p0_2                     | (?, 13, 13, 256)\n",
      " Load  |  Yep!  | conv 3x3p1_1  +bnorm  leaky      | (?, 13, 13, 512)\n",
      " Load  |  Yep!  | maxp 2x2p0_1                     | (?, 13, 13, 512)\n",
      " Load  |  Yep!  | conv 3x3p1_1  +bnorm  leaky      | (?, 13, 13, 1024)\n",
      " Load  |  Yep!  | conv 3x3p1_1  +bnorm  leaky      | (?, 13, 13, 1024)\n",
      " Init  |  Yep!  | conv 1x1p0_1    linear           | (?, 13, 13, 30)\n",
      "-------+--------+----------------------------------+---------------\n",
      "Running entirely on CPU\n",
      "Finished in 1.8680195808410645s\n",
      "\n",
      "[{'label': 'heliport', 'confidence': 0.65024644, 'topleft': {'x': 373, 'y': 0}, 'bottomright': {'x': 703, 'y': 228}}, {'label': 'heliport', 'confidence': 0.64773476, 'topleft': {'x': 304, 'y': 36}, 'bottomright': {'x': 591, 'y': 240}}, {'label': 'heliport', 'confidence': 0.64670163, 'topleft': {'x': 0, 'y': 57}, 'bottomright': {'x': 1061, 'y': 719}}, {'label': 'heliport', 'confidence': 0.6130355, 'topleft': {'x': 487, 'y': 410}, 'bottomright': {'x': 794, 'y': 637}}, {'label': 'heliport', 'confidence': 0.626018, 'topleft': {'x': 88, 'y': 293}, 'bottomright': {'x': 1279, 'y': 719}}]\n"
     ]
    }
   ],
   "source": [
    "options = {\"model\": \"cfg/tiny-yolo-voc-3c.cfg\", \"load\": \"bin/tiny-yolo-voc.weights\", \"threshold\": 0.61}\n",
    "\n",
    "tfnet = TFNet(options)\n",
    "imgcv = cv2.imread(\"./data/heliport/test.jpg\")\n",
    "result = tfnet.return_predict(imgcv)\n",
    "print(result)"
   ]
  },
  {
   "cell_type": "code",
   "execution_count": 8,
   "id": "56e51a21",
   "metadata": {},
   "outputs": [
    {
     "name": "stdout",
     "output_type": "stream",
     "text": [
      "Parsing ./cfg/tiny-yolo-voc.cfg\n",
      "Parsing cfg/tiny-yolo-voc-3c.cfg\n",
      "Loading bin/tiny-yolo-voc.weights ...\n",
      "Successfully identified 63471556 bytes\n",
      "Finished in 0.01699042320251465s\n",
      "\n",
      "Building net ...\n",
      "Source | Train? | Layer description                | Output size\n",
      "-------+--------+----------------------------------+---------------\n",
      "       |        | input                            | (?, 416, 416, 3)\n",
      " Load  |  Yep!  | conv 3x3p1_1  +bnorm  leaky      | (?, 416, 416, 16)\n",
      " Load  |  Yep!  | maxp 2x2p0_2                     | (?, 208, 208, 16)\n",
      " Load  |  Yep!  | conv 3x3p1_1  +bnorm  leaky      | (?, 208, 208, 32)\n",
      " Load  |  Yep!  | maxp 2x2p0_2                     | (?, 104, 104, 32)\n",
      " Load  |  Yep!  | conv 3x3p1_1  +bnorm  leaky      | (?, 104, 104, 64)\n",
      " Load  |  Yep!  | maxp 2x2p0_2                     | (?, 52, 52, 64)\n",
      " Load  |  Yep!  | conv 3x3p1_1  +bnorm  leaky      | (?, 52, 52, 128)\n",
      " Load  |  Yep!  | maxp 2x2p0_2                     | (?, 26, 26, 128)\n",
      " Load  |  Yep!  | conv 3x3p1_1  +bnorm  leaky      | (?, 26, 26, 256)\n",
      " Load  |  Yep!  | maxp 2x2p0_2                     | (?, 13, 13, 256)\n",
      " Load  |  Yep!  | conv 3x3p1_1  +bnorm  leaky      | (?, 13, 13, 512)\n",
      " Load  |  Yep!  | maxp 2x2p0_1                     | (?, 13, 13, 512)\n",
      " Load  |  Yep!  | conv 3x3p1_1  +bnorm  leaky      | (?, 13, 13, 1024)\n",
      " Load  |  Yep!  | conv 3x3p1_1  +bnorm  leaky      | (?, 13, 13, 1024)\n",
      " Init  |  Yep!  | conv 1x1p0_1    linear           | (?, 13, 13, 30)\n",
      "-------+--------+----------------------------------+---------------\n",
      "Running entirely on CPU\n",
      "Finished in 1.7900161743164062s\n",
      "\n",
      "{'label': 'heliport', 'confidence': 0.6028016, 'topleft': {'x': 1153, 'y': 1225}, 'bottomright': {'x': 1416, 'y': 1615}}\n",
      "{'label': 'heliport', 'confidence': 0.6121251, 'topleft': {'x': 917, 'y': 1560}, 'bottomright': {'x': 1154, 'y': 1880}}\n",
      "{'label': 'heliport', 'confidence': 0.6387174, 'topleft': {'x': 1142, 'y': 1516}, 'bottomright': {'x': 1410, 'y': 1886}}\n",
      "{'label': 'heliport', 'confidence': 0.6087671, 'topleft': {'x': 1331, 'y': 1449}, 'bottomright': {'x': 1709, 'y': 1941}}\n",
      "{'label': 'heliport', 'confidence': 0.7249003, 'topleft': {'x': 496, 'y': 1003}, 'bottomright': {'x': 2917, 'y': 3091}}\n",
      "END\n"
     ]
    }
   ],
   "source": [
    "options = {\"model\": \"cfg/tiny-yolo-voc-3c.cfg\", \"load\": \"bin/tiny-yolo-voc.weights\", \"threshold\": 0.6}\n",
    "\n",
    "tfnet = TFNet(options)\n",
    "imgcv = cv2.imread(\"./data/heliport/test2.jpg\")\n",
    "result = tfnet.return_predict(imgcv)\n",
    "for i in result:\n",
    "    print(i)\n",
    "\n",
    "print(\"END\")"
   ]
  }
 ],
 "metadata": {
  "kernelspec": {
   "display_name": "Python 3 (ipykernel)",
   "language": "python",
   "name": "python3"
  },
  "language_info": {
   "codemirror_mode": {
    "name": "ipython",
    "version": 3
   },
   "file_extension": ".py",
   "mimetype": "text/x-python",
   "name": "python",
   "nbconvert_exporter": "python",
   "pygments_lexer": "ipython3",
   "version": "3.7.13"
  }
 },
 "nbformat": 4,
 "nbformat_minor": 5
}

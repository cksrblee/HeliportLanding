{
 "cells": [
  {
   "cell_type": "code",
   "execution_count": 3,
   "id": "f76b3d98",
   "metadata": {},
   "outputs": [],
   "source": [
    "import cv2\n",
    "import numpy as np\n",
    "import sys\n",
    "import io\n",
    "\n",
    "#sys.stdout = io.TextIOWrapper(sys.stdout.detach(), encoding = 'utf-8')\n",
    "#sys.stderr = io.TextIOWrapper(sys.stderr.detach(), encoding = 'utf-8')\n",
    "\n",
    "def VideoWrite():\n",
    "    try:\n",
    "        print(\"카메라 구동\")\n",
    "        cap = cv2.VideoCapture(0)\n",
    "    except:\n",
    "        print(\"카메라 구동실패\")\n",
    "        return\n",
    "\n",
    "    # 폭, 높이 값을 카메라속성에 맞춤\n",
    "    # cap.set(probID, 속성값) 은 출력될 값들을 지정해주는 것이고\n",
    "    # cap.get(probID) 는 해당 속성에 대한 값을 받아오는 것임.\n",
    "    # 아래의 폭과 높이는 웹캠의 속성을 그대로 가져와 사용하는것.\n",
    "    width = int(cap.get(3))\n",
    "    height = int(cap.get(4))\n",
    "\n",
    "    # 코덱정보를 나타냄 아래의 두줄과 같이 사용할 수 있음.\n",
    "    # 둘중 어느것을 쓰든 상관없음.\n",
    "    # 여러가지의 코덱종류가 있지만 윈도우라면 DIVX 를 사용\n",
    "    fourcc = cv2.VideoWriter_fourcc(*'DIVX')\n",
    "    # fourcc = cv2.VideoWriter_fourcc('D','I','V','X')\n",
    "\n",
    "    # 비디오 저장을 위한 객체를 생성해줌.\n",
    "    out = cv2.VideoWriter('SaveVideo.mp4',fourcc,20.0,(width, height))\n",
    "\n",
    "    while(True):\n",
    "        ret, frame = cap.read()\n",
    "\n",
    "        if not ret:\n",
    "            print(\"비디오 읽기 오류\")\n",
    "            break\n",
    "\n",
    "        # 비디오 프레임이 정확하게 촬영되었으면 화면에 출력하여줌\n",
    "        cv2.imshow('video',frame)\n",
    "        # 비디오 프레임이 제대로 출력되면 해당파일에 프레임을 저장\n",
    "        out.write(frame)\n",
    "\n",
    "        # ESC키값을 입력받으면 녹화종료 메세지와 함께 녹화종료\n",
    "        k= cv2.waitKey(1)\n",
    "        if(k == 27):\n",
    "            print('녹화 종료')\n",
    "            break\n",
    "\n",
    "    # 비디와 관련 장치들을 다 닫아줌.\n",
    "    cap.release()\n",
    "    out.release()\n",
    "    cv2.destroyAllWindows()\n",
    "\n",
    "#Ref: https://blog.naver.com/pk3152/221442198600\n"
   ]
  },
  {
   "cell_type": "code",
   "execution_count": 5,
   "id": "144b465f",
   "metadata": {},
   "outputs": [
    {
     "name": "stdout",
     "output_type": "stream",
     "text": [
      "카메라 구동\n",
      "녹화 종료\n"
     ]
    }
   ],
   "source": [
    "VideoWrite()"
   ]
  }
 ],
 "metadata": {
  "kernelspec": {
   "display_name": "Python 3",
   "language": "python",
   "name": "python3"
  },
  "language_info": {
   "codemirror_mode": {
    "name": "ipython",
    "version": 3
   },
   "file_extension": ".py",
   "mimetype": "text/x-python",
   "name": "python",
   "nbconvert_exporter": "python",
   "pygments_lexer": "ipython3",
   "version": "3.8.8"
  }
 },
 "nbformat": 4,
 "nbformat_minor": 5
}
